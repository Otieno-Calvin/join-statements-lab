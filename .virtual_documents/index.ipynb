








import sqlite3
import pandas as pd

db=sqlite3.connect('data.sqlite')
cur=db.cursor()







rows = cur.execute('''
    SELECT * FROM employees e  
    ''').fetchall()
for row in rows :
    print(row)


rows = cur.execute('''
    SELECT * FROM offices o  
    ''').fetchall()
for row in rows :
    print(row)


rows = cur.execute('''
    SELECT e.firstName, e.lastName
    FROM employees e
    JOIN offices o ON e.officeCode = o.officeCode
    WHERE o.city = 'Boston';
''').fetchall()

for row in rows:
    print(row)





rows = cur.execute('''
    SELECT o.officeCode, o.city, COUNT(e.employeeNumber) AS numberOfEmployees
    FROM offices o
    LEFT JOIN employees e ON o.officeCode = e.officeCode
    GROUP BY o.officeCode
    HAVING COUNT(e.employeeNumber) = 0;
''').fetchall()

for row in rows:
    print(row)





# Answers will vary

# Example question: 
"""
How many customers are there per office?
"""

rows= cur.execute('''
    SELECT o.officeCode, o.city, COUNT(c.customerNumber) AS totalCustomers
    FROM offices o
    JOIN employees e ON o.officeCode = e.officeCode
    JOIN customers c ON e.employeeNumber = c.salesRepEmployeeNumber
    GROUP BY o.officeCode;
''').fetchall()

for row in rows:
    print(row)


"""
Question 1
What is the total payment received from each customer?
"""
rows = cur.execute('''
    SELECT c.customerNumber , c.customerName,
    SUM(p.amount) AS total_amount
    FROM customers c
    JOIN payments p ON c.customerNumber= 
    p.customerNumber
    GROUP BY c.customerNumber;

''').fetchall()

for row in rows:
    print(row)
# Your code here


"""
Question 2
The most recent order
"""

rows=cur.execute('''
    SELECT *
    FROM orders
    ORDER BY orderDate DESC
    LIMIT 1;
''')
for row in rows:
    print(row)


"""
Question 3
list of all products that have never been sold.
"""
rows=cur.execute('''
    SELECT 
    FROM orders
    ORDER BY orderDate DESC
    LIMIT 1;
''')
for row in rows:
    print(row)






rows=cur.execute('''
    SELECT e.firstName,e.lastName ,p.productName
    FROM employees e
    JOIN customers c ON e.employeeNumber = c.salesRepEmployeeNumber
    JOIN orders o ON c.customerNumber = o.customerNumber
    JOIN orderdetails od ON  o.orderNumber = od.orderNumber
    JOIN products p ON od.productCode = p.productCode
''')
for row in rows:
    print(row)





rows=cur.execute('''
    SELECT e.firstName,e.lastName ,SUM(od.quantityOrdered) AS totalProductsSold
    FROM employees e
    JOIN customers c ON e.employeeNumber = c.salesRepEmployeeNumber
    JOIN orders o ON c.customerNumber = o.customerNumber
    JOIN orderdetails od ON  o.orderNumber = od.orderNumber
    GROUP BY e.employeeNumber
    ORDER BY e.lastName , e.firstName
''')
for row in rows:
    print(row)





rows=cur.execute('''
    SELECT e.firstName,e.lastName ,COUNT(DISTINCT(od.productCode)) AS totalProductsSold
    FROM employees e
    JOIN customers c ON e.employeeNumber = c.salesRepEmployeeNumber
    JOIN orders o ON c.customerNumber = o.customerNumber
    JOIN orderdetails od ON  o.orderNumber = od.orderNumber
    GROUP BY e.employeeNumber
    HAVING COUNT(DISTINCT od.productCode) > 200
''')
for row in rows:
    print(row)






